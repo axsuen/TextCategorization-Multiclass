{
 "cells": [
  {
   "cell_type": "code",
   "execution_count": 1,
   "metadata": {},
   "outputs": [
    {
     "name": "stderr",
     "output_type": "stream",
     "text": [
      "[nltk_data] Downloading package wordnet to\n",
      "[nltk_data]     /Users/aoxiangsuen/nltk_data...\n",
      "[nltk_data]   Package wordnet is already up-to-date!\n",
      "[nltk_data] Downloading package stopwords to\n",
      "[nltk_data]     /Users/aoxiangsuen/nltk_data...\n",
      "[nltk_data]   Package stopwords is already up-to-date!\n"
     ]
    }
   ],
   "source": [
    "import os\n",
    "import pandas as pd\n",
    "import numpy as np\n",
    "import matplotlib.pyplot as plt\n",
    "import seaborn as sns\n",
    "import string\n",
    "\n",
    "import re\n",
    "import nltk\n",
    "from nltk.stem import WordNetLemmatizer\n",
    "from nltk.stem import PorterStemmer\n",
    "from nltk.corpus import stopwords\n",
    "from textblob import TextBlob\n",
    "\n",
    "import spacy\n",
    "import scipy as sp\n",
    "\n",
    "from imblearn.over_sampling import SMOTE, RandomOverSampler\n",
    "from imblearn.under_sampling import RandomUnderSampler\n",
    "\n",
    "from sklearn.naive_bayes import MultinomialNB\n",
    "from sklearn.svm import SVC\n",
    "from sklearn.model_selection import train_test_split\n",
    "from sklearn.feature_extraction.text import CountVectorizer\n",
    "from sklearn.feature_extraction.text import TfidfVectorizer\n",
    "from sklearn.metrics import f1_score\n",
    "from sklearn.metrics import classification_report\n",
    "from sklearn.preprocessing import MinMaxScaler\n",
    "\n",
    "\n",
    "import tensorflow as tf\n",
    "from tensorflow.keras.layers.experimental.preprocessing import TextVectorization\n",
    "from tensorflow.keras.preprocessing.sequence import pad_sequences\n",
    "from tensorflow.keras.models import Sequential\n",
    "from tensorflow.keras.layers import (LSTM, Embedding, \n",
    "    TimeDistributed, Dense, RepeatVector, \n",
    "    Activation, Flatten, Reshape, concatenate,  \n",
    "    Dropout, BatchNormalization)\n",
    "from tensorflow.keras.optimizers import Adam, RMSprop\n",
    "from tensorflow.keras import Input, layers\n",
    "from tensorflow.keras import optimizers\n",
    "from tensorflow.keras.models import Model, load_model\n",
    "from tensorflow.keras.layers import add\n",
    "from tensorflow.keras.callbacks import EarlyStopping\n",
    "from tensorflow.keras.utils import to_categorical\n",
    "from tensorflow.keras.preprocessing.text import Tokenizer\n",
    "\n",
    "\n",
    "from xgboost import XGBClassifier\n",
    "from sklearn.ensemble import RandomForestClassifier\n",
    "\n",
    "pd.set_option('display.max_colwidth', None)\n",
    "\n",
    "nltk.download('wordnet')\n",
    "nltk.download('stopwords')\n",
    "\n",
    "import texthero as hero\n",
    "\n",
    "import warnings\n",
    "warnings.filterwarnings(\"ignore\", category=DeprecationWarning)"
   ]
  },
  {
   "cell_type": "code",
   "execution_count": 2,
   "metadata": {},
   "outputs": [],
   "source": [
    "df = pd.read_csv('train.csv')"
   ]
  },
  {
   "cell_type": "code",
   "execution_count": 36,
   "metadata": {},
   "outputs": [
    {
     "data": {
      "image/png": "[encoded data removed]",
      "text/plain": [
       "<Figure size 720x360 with 1 Axes>"
      ]
     },
     "metadata": {
      "needs_background": "light"
     },
     "output_type": "display_data"
    }
   ],
   "source": [
    "count = df.groupby(['Outcome']).count().Text\n",
    "\n",
    "fig = plt.figure(figsize=(10,5))\n",
    "plt.bar(range(len(count)), count.values)\n",
    "plt.xticks(range(len(count)), count.index)\n",
    "plt.xlabel('Topic', size = 15)\n",
    "plt.ylabel('Count', size=15)\n",
    "plt.title('Count per Topic', size=18)\n",
    "plt.tight_layout()\n",
    "plt.show()\n",
    "fig.savefig('count.png', pad_inches = 100, dpi=300)"
   ]
  },
  {
   "cell_type": "code",
   "execution_count": 4,
   "metadata": {},
   "outputs": [
    {
     "data": {
      "text/plain": [
       "Outcome\n",
       "0      24428\n",
       "1      31270\n",
       "2      47268\n",
       "3      20200\n",
       "4       6108\n",
       "5      32702\n",
       "6       2328\n",
       "7      42518\n",
       "8      38590\n",
       "9      49192\n",
       "10     16062\n",
       "11      7168\n",
       "12     64990\n",
       "13     83464\n",
       "14    483982\n",
       "15      5184\n",
       "Name: Text, dtype: int64"
      ]
     },
     "execution_count": 4,
     "metadata": {},
     "output_type": "execute_result"
    }
   ],
   "source": [
    "count"
   ]
  },
  {
   "cell_type": "markdown",
   "metadata": {},
   "source": [
    "# Feature Engineering"
   ]
  },
  {
   "cell_type": "markdown",
   "metadata": {},
   "source": [
    "### Features from counting operations"
   ]
  },
  {
   "cell_type": "code",
   "execution_count": 274,
   "metadata": {},
   "outputs": [],
   "source": [
    "def count_symbols(text):\n",
    "    pattern = r'[{}]'.format(string.punctuation)\n",
    "    count_sym = len(re.findall(pattern, text))\n",
    "    return count_sym\n",
    "\n",
    "def count_numbers(text):\n",
    "    count_num = len(re.findall(r'\\d+', text))\n",
    "    return count_num\n",
    "\n",
    "def count_mathexp(text):\n",
    "    pattern = r\"(\\$+)(?:(?!\\1)[\\s\\S])*\\1\"\n",
    "    count_mathexp = len(re.findall(pattern ,text))\n",
    "    return count_mathexp\n",
    "\n",
    "def engineer_features(df):\n",
    "    \n",
    "    df['symbol_count'] = df.Text.apply(lambda x: count_symbols(x))\n",
    "    df['number_count'] = df.Text.apply(lambda x: count_numbers(x))\n",
    "    df['mathexp_count'] = df.Text.apply(lambda x: count_mathexp(x))\n",
    "    df['word_count'] = df.Text.apply(lambda x: len(str(x).split(\" \")))\n",
    "    df['char_count'] = df.Text.apply(lambda x: sum(len(word) for word in str(x).split(\" \")))\n",
    "    df['sentence_count'] = df.Text.apply(lambda x: len(str(x).split(\".\")))\n",
    "    df['avg_word_length'] = df['char_count'] / df['word_count']\n",
    "    df['avg_sentence_length'] = df['word_count'] / df['sentence_count']\n",
    "    df['sentiment'] = df.Text.apply(lambda x: (TextBlob(x).sentiment.polarity + 1) / 2)\n",
    "    \n",
    "    return df\n",
    "\n",
    "manual_col = ['symbol_count', 'number_count', 'mathexp_count', 'word_count', 'char_count', 'sentence_count', 'avg_word_length', 'avg_sentence_length', 'sentiment']\n",
    "\n",
    "df = engineer_features(df)"
   ]
  },
  {
   "cell_type": "markdown",
   "metadata": {},
   "source": [
    "### Features from Entity Recognition"
   ]
  },
  {
   "cell_type": "code",
   "execution_count": 275,
   "metadata": {},
   "outputs": [],
   "source": [
    "ner = spacy.load(\"en_core_web_lg\")\n",
    "ner_col = ['CARDINAL', 'DATE', 'EVENT', 'FAC', 'GPE', 'LANGUAGE', 'LAW', 'LOC', 'MONEY', 'NORP', 'ORDINAL', 'ORG', 'PERCENT', 'PERSON', 'PRODUCT', 'QUANTITY', 'TIME', 'WORK_OF_ART']\n",
    "\n",
    "def tag_ner(text):\n",
    "    regex = r\"(\\$+)(?:(?!\\1)[\\s\\S])*\\1\"\n",
    "    result = re.sub(regex, '', text)\n",
    "    lst = [(tag.label_) for tag in ner(result).ents]\n",
    "    count = [lst.count(tag) for tag in lst]\n",
    "    dic = dict(zip(lst, count))\n",
    "    return dic\n",
    "\n",
    "df = df.reindex(columns = df.columns.tolist() + ner_col).fillna(0)\n",
    "df['tags'] = df.Text.apply(lambda x: tag_ner(x))\n",
    "for col in ner_col:\n",
    "    df[col] = df.tags.apply(lambda x: x[col] if col in x.keys() else 0)\n"
   ]
  },
  {
   "cell_type": "markdown",
   "metadata": {},
   "source": [
    "# Text Preprocessing"
   ]
  },
  {
   "cell_type": "code",
   "execution_count": 1032,
   "metadata": {},
   "outputs": [],
   "source": [
    "import unicodedata\n",
    "\n",
    "stop_words = stopwords.words('english')\n",
    "\n",
    "def remove_weblinks(text):\n",
    "    new_text = re.sub('http[s]?://\\S+', '', text)\n",
    "    return new_text\n",
    "\n",
    "def remove_accented_chars(text):\n",
    "    new_text = unicodedata.normalize('NFKD', text).encode('ascii', 'ignore').decode('utf-8', 'ignore')\n",
    "    return new_text\n",
    "\n",
    "def remove_non_alphabets(text):\n",
    "    pattern = r'[^a-zA-Z]+'\n",
    "    return re.sub(pattern, ' ', text)\n",
    "\n",
    "def lowercase(text):\n",
    "    return text.lower()\n",
    "\n",
    "def remove_short_words(text):\n",
    "    new_text = text.split()\n",
    "    new_text = [word for word in new_text if len(word) >= 3]\n",
    "    new_text = ' '.join(new_text)\n",
    "    return new_text\n",
    "\n",
    "def remove_stopwords(text):\n",
    "    new_text = text.split()\n",
    "    new_text = [word for word in new_text if word not in stop_words]\n",
    "    new_text = ' '.join(new_text)\n",
    "    return new_text\n",
    "\n",
    "def stemming(text):\n",
    "    porter_stemmer = PorterStemmer()\n",
    "    new_text = text.split()\n",
    "    new_text = [porter_stemmer.stem(word=w) for w in new_text]\n",
    "    new_text = ' '.join(new_text)\n",
    "    return new_text\n",
    "\n",
    "def preprocess(text):\n",
    "    \n",
    "    text = remove_accented_chars(text)\n",
    "    text = remove_weblinks(text)\n",
    "    text = remove_non_alphabets(text)\n",
    "    text = lowercase(text)\n",
    "    text = remove_stopwords(text)\n",
    "    text = stemming(text)\n",
    "    text = remove_short_words(text)\n",
    "    \n",
    "    return text"
   ]
  },
  {
   "cell_type": "markdown",
   "metadata": {},
   "source": [
    "### Save preprocessed texts and features from Train and Test sets"
   ]
  },
  {
   "cell_type": "code",
   "execution_count": 1035,
   "metadata": {},
   "outputs": [],
   "source": [
    "# train set\n",
    "df['cleaned_text'] = df['Text'].apply(lambda x: preprocess(x))\n",
    "df.drop('Text', axis=1).to_csv('train_all_features.csv', index=False)\n",
    "\n",
    "# test set\n",
    "df_test = pd.read_csv('test.csv')\n",
    "df_test = engineer_features(df_test)\n",
    "df_test = df_test.reindex(columns = df_test.columns.tolist() + ner_col).fillna(0)\n",
    "df_test['tags'] = df_test.Text.apply(lambda x: tag_ner(x))\n",
    "for col in ner_col:\n",
    "    df_test[col] = df_test.tags.apply(lambda x: x[col] if col in x.keys() else 0)\n",
    "\n",
    "df_test['cleaned_text'] = df_test['Text'].apply(lambda x: preprocess(x))\n",
    "df_test.drop('Text', axis=1).to_csv('test_all_features.csv', index=False)"
   ]
  },
  {
   "cell_type": "code",
   "execution_count": 39,
   "metadata": {},
   "outputs": [
    {
     "data": {
      "image/png": "[encoded data removed]",
      "text/plain": [
       "<Figure size 432x288 with 1 Axes>"
      ]
     },
     "metadata": {
      "needs_background": "light"
     },
     "output_type": "display_data"
    }
   ],
   "source": [
    "from wordcloud import WordCloud\n",
    "\n",
    "# visualise processed texts with word cloud\n",
    "\n",
    "df_train_all_features = pd.read_csv('train_all_features.csv')\n",
    "df_train_all_features.fillna(value='na', inplace=True)\n",
    "\n",
    "fig = plt.figure()\n",
    "string = (\" \").join(df_train_all_features.cleaned_text.values.tolist())\n",
    "wordcloud = WordCloud(background_color='white', collocations=False, width=2000, height=1000).generate(string)\n",
    "plt.imshow(wordcloud, interpolation='bilinear')\n",
    "plt.axis('off')\n",
    "plt.show()\n",
    "fig.savefig('wordcloud.png', dpi=300)"
   ]
  },
  {
   "cell_type": "markdown",
   "metadata": {},
   "source": [
    "# Train/Validation Split"
   ]
  },
  {
   "cell_type": "code",
   "execution_count": 22,
   "metadata": {},
   "outputs": [],
   "source": [
    "# Split train/validation set\n",
    "df_train_all_features = pd.read_csv('train_all_features.csv')\n",
    "df_train_all_features.fillna(value='na', inplace=True)\n",
    "X = df_train_all_features.drop(['Outcome'], axis=1)\n",
    "y = df_train_all_features['Outcome']\n",
    "X_train, X_val, y_train, y_val = train_test_split(X, y, test_size=0.25, random_state=1, stratify=y)"
   ]
  },
  {
   "cell_type": "code",
   "execution_count": 23,
   "metadata": {},
   "outputs": [],
   "source": [
    "# save train/validation set to run TextCNN on google colab TPU\n",
    "X_train.to_csv('Colab Data/X_train.csv')\n",
    "X_val.to_csv('Colab Data/X_val.csv')\n",
    "y_train.to_csv('Colab Data/y_train.csv')\n",
    "y_val.to_csv('Colab Data/y_val.csv')"
   ]
  },
  {
   "cell_type": "markdown",
   "metadata": {},
   "source": [
    "# Feature Engineering on Train Set (Topic Modelling)"
   ]
  },
  {
   "cell_type": "code",
   "execution_count": 1299,
   "metadata": {},
   "outputs": [],
   "source": [
    "import gensim\n",
    "import gensim.corpora as corpora\n",
    "from gensim.models import CoherenceModel"
   ]
  },
  {
   "cell_type": "code",
   "execution_count": 1300,
   "metadata": {},
   "outputs": [],
   "source": [
    "X_train_bs = X_train.cleaned_text\n",
    "y_train_bs = y_train.copy()"
   ]
  },
  {
   "cell_type": "code",
   "execution_count": 1040,
   "metadata": {},
   "outputs": [],
   "source": [
    "# Sample each class equally to avoid majority class dominating topics in the lda model\n",
    "\n",
    "from sklearn.utils import resample\n",
    "\n",
    "df_merge = pd.merge(X_train_bs, y_train_bs, left_index=True, right_index=True)\n",
    "\n",
    "df_bootstrap = pd.DataFrame(columns = ['cleaned_text', 'Outcome'])\n",
    "for i in np.unique(df_merge.Outcome):\n",
    "    df_temp = df_merge[df_merge.Outcome == i]\n",
    "    bootstrap = resample(df_temp, replace=True, n_samples=10000, random_state=1)\n",
    "    df_bootstrap = pd.concat([df_bootstrap, bootstrap], axis=0)\n",
    "    \n",
    "X_train_bs = df_bootstrap.cleaned_text\n",
    "y_train_bs = df_bootstrap.Outcome"
   ]
  },
  {
   "cell_type": "code",
   "execution_count": 1041,
   "metadata": {},
   "outputs": [],
   "source": [
    "X_train_tm = X_train_bs.apply(lambda x: x.split())"
   ]
  },
  {
   "cell_type": "code",
   "execution_count": 1042,
   "metadata": {},
   "outputs": [],
   "source": [
    "# Create Dictionary\n",
    "id2word = corpora.Dictionary(X_train_tm.values)\n",
    "\n",
    "# Create Corpus\n",
    "texts = X_train_tm.values\n",
    "\n",
    "# Term Document Frequency\n",
    "corpus = [id2word.doc2bow(text) for text in texts]"
   ]
  },
  {
   "cell_type": "code",
   "execution_count": 1043,
   "metadata": {},
   "outputs": [],
   "source": [
    "# Build LDA model\n",
    "lda_model = gensim.models.ldamulticore.LdaMulticore(corpus=corpus,\n",
    "                                                    id2word=id2word,\n",
    "                                                    num_topics=20, \n",
    "                                                    random_state=5153,\n",
    "                                                    workers = 7,\n",
    "                                                    passes=15)\n",
    "lda_model.save('lda_model.model')"
   ]
  },
  {
   "cell_type": "code",
   "execution_count": 1044,
   "metadata": {},
   "outputs": [
    {
     "name": "stdout",
     "output_type": "stream",
     "text": [
      "\n",
      "Perplexity:  -9.621199741524173\n",
      "\n",
      "Coherence Score:  0.5735929446034644\n"
     ]
    }
   ],
   "source": [
    "# Compute Perplexity\n",
    "print('\\nPerplexity: ', lda_model.log_perplexity(corpus))  # a measure of how good the model is. lower the better.\n",
    "\n",
    "# Compute Coherence Score\n",
    "coherence_model_lda = CoherenceModel(model=lda_model, texts=X_train_tm.values, dictionary=id2word, coherence='c_v')\n",
    "coherence_lda = coherence_model_lda.get_coherence()\n",
    "print('\\nCoherence Score: ', coherence_lda)"
   ]
  },
  {
   "cell_type": "code",
   "execution_count": 1045,
   "metadata": {},
   "outputs": [],
   "source": [
    "# Make corpus for train and val sets\n",
    "X_train_corpus = X_train.cleaned_text.apply(lambda x: x.split())\n",
    "X_val_corpus = X_val.cleaned_text.apply(lambda x: x.split())\n",
    "\n",
    "# Create Corpus\n",
    "texts_train = X_train_corpus.values\n",
    "texts_val = X_val_corpus.values\n",
    "\n",
    "# Term Document Frequency\n",
    "corpus_train = [id2word.doc2bow(text) for text in texts_train]\n",
    "corpus_val = [id2word.doc2bow(text) for text in texts_val]"
   ]
  },
  {
   "cell_type": "code",
   "execution_count": 1046,
   "metadata": {},
   "outputs": [],
   "source": [
    "# get document topics\n",
    "topics_train = list(lda_model.get_document_topics(corpus_train, minimum_probability=0))\n",
    "topics_val = list(lda_model.get_document_topics(corpus_val, minimum_probability=0))"
   ]
  },
  {
   "cell_type": "code",
   "execution_count": 1295,
   "metadata": {},
   "outputs": [],
   "source": [
    "# Reformat topics output into dataframe\n",
    "\n",
    "def topics_dataframe(topics, X):\n",
    "    lst = []\n",
    "    for i in range(len(topics)):\n",
    "        row = list(map(lambda x: x[1], topics[i]))\n",
    "        lst.append(row)\n",
    "    df = pd.DataFrame(lst, index=X.index)\n",
    "    return df"
   ]
  },
  {
   "cell_type": "code",
   "execution_count": 1103,
   "metadata": {},
   "outputs": [],
   "source": [
    "topics_train_df = topics_dataframe(topics_train, X_train)\n",
    "topics_val_df = topics_dataframe(topics_val, X_val)"
   ]
  },
  {
   "cell_type": "code",
   "execution_count": 1105,
   "metadata": {},
   "outputs": [],
   "source": [
    "# apply lda model on test set\n",
    "df_test = pd.read_csv('test_all_features.csv', index_col=['Id'])\n",
    "df_test.fillna(value='na', inplace=True)\n",
    "X_test_corpus = df_test.cleaned_text.apply(lambda x: x.split())\n",
    "id2word_test = corpora.Dictionary(X_test_corpus.values)\n",
    "texts_test = X_test_corpus.values\n",
    "corpus_test = [id2word.doc2bow(text) for text in texts_test]\n",
    "topics_test = list(lda_model.get_document_topics(corpus_test, minimum_probability=0))\n",
    "topics_test_df = topics_dataframe(topics_test, df_test)"
   ]
  },
  {
   "cell_type": "markdown",
   "metadata": {},
   "source": [
    "### Aggregate manual features"
   ]
  },
  {
   "cell_type": "code",
   "execution_count": 25,
   "metadata": {},
   "outputs": [],
   "source": [
    "# Get manual columns\n",
    "topic_col = topics_train_df.columns\n",
    "X_train_manual = pd.concat([X_train.loc[:, manual_col+ner_col], topics_train_df], axis=1, ignore_index=True)\n",
    "X_val_manual = pd.concat([X_val.loc[:, manual_col+ner_col], topics_val_df], axis=1, ignore_index=True)"
   ]
  },
  {
   "cell_type": "markdown",
   "metadata": {},
   "source": [
    "## MultinomialNB"
   ]
  },
  {
   "cell_type": "code",
   "execution_count": 26,
   "metadata": {},
   "outputs": [],
   "source": [
    "# Get cleaned_text\n",
    "X_train_text = X_train.loc[:, 'cleaned_text']\n",
    "X_val_text = X_val.loc[:, 'cleaned_text']"
   ]
  },
  {
   "cell_type": "code",
   "execution_count": 27,
   "metadata": {},
   "outputs": [],
   "source": [
    "# Convert text into features using tf-idf\n",
    "tfidf_vectorizer = TfidfVectorizer(max_df=0.6, min_df=10, ngram_range = (1,3), stop_words='english')\n",
    "X_train_dtm = tfidf_vectorizer.fit_transform(X_train_text)\n",
    "X_val_dtm = tfidf_vectorizer.transform(X_val_text)"
   ]
  },
  {
   "cell_type": "code",
   "execution_count": 1254,
   "metadata": {},
   "outputs": [],
   "source": [
    "# add engineered features\n",
    "X_train_manual_sparse = sp.sparse.csr_matrix(X_train_manual)\n",
    "X_val_manual_sparse = sp.sparse.csr_matrix(X_val_manual)\n",
    "\n",
    "X_train_dtm = sp.sparse.hstack([X_train_dtm, X_train_manual_sparse])\n",
    "X_val_dtm = sp.sparse.hstack([X_val_dtm, X_val_manual_sparse])"
   ]
  },
  {
   "cell_type": "code",
   "execution_count": 1255,
   "metadata": {},
   "outputs": [],
   "source": [
    "from sklearn.feature_selection import VarianceThreshold\n",
    "\n",
    "# reduce dimensions by eliminating features with very low variance\n",
    "selector = VarianceThreshold(threshold = 0.000001)\n",
    "X_train_dtm_reduced = selector.fit_transform(X_train_dtm)\n",
    "X_val_dtm_reduced = selector.transform(X_val_dtm)"
   ]
  },
  {
   "cell_type": "code",
   "execution_count": 1256,
   "metadata": {},
   "outputs": [
    {
     "name": "stdout",
     "output_type": "stream",
     "text": [
      "No. of features before variance reduction: 281261\n",
      "No. of features after variance reduction: 152897\n"
     ]
    }
   ],
   "source": [
    "print(\"No. of features before variance reduction:\", X_train_dtm.shape[1])\n",
    "print(\"No. of features after variance reduction:\",X_train_dtm_reduced.shape[1])"
   ]
  },
  {
   "cell_type": "code",
   "execution_count": 28,
   "metadata": {},
   "outputs": [],
   "source": [
    "# correct imbalanced dataset\n",
    "df_train = pd.DataFrame(X_train)\n",
    "df_train['Outcome'] = y_train\n",
    "\n",
    "count = df_train.groupby(['Outcome']).count().cleaned_text\n",
    "\n",
    "undersample_strategy = {}\n",
    "for i in range(len(count)):\n",
    "    if count[i] >= 150000:\n",
    "        undersample_strategy[i] = 150000\n",
    "        \n",
    "oversample_strategy = {}\n",
    "for i in range(len(count)):\n",
    "    if count[i] <= 50000:\n",
    "        oversample_strategy[i] = 50000\n",
    "        \n",
    "under_sampler = RandomUnderSampler(random_state=5153, sampling_strategy=undersample_strategy)\n",
    "X_train_dtm_resample, y_train_resample = under_sampler.fit_resample(X_train_dtm_reduced, y_train)\n",
    "\n",
    "over_sampler = SMOTE(random_state=5153, sampling_strategy=oversample_strategy)\n",
    "X_train_dtm_resample, y_train_resample = over_sampler.fit_resample(X_train_dtm_resample, y_train_resample)"
   ]
  },
  {
   "cell_type": "code",
   "execution_count": 34,
   "metadata": {},
   "outputs": [
    {
     "data": {
      "image/png": "[encoded data removed]",
      "text/plain": [
       "<Figure size 720x360 with 1 Axes>"
      ]
     },
     "metadata": {
      "needs_background": "light"
     },
     "output_type": "display_data"
    }
   ],
   "source": [
    "value, count= np.unique(y_train_resample, return_counts=True)\n",
    "\n",
    "fig = plt.figure(figsize=(10,5))\n",
    "plt.bar(x = range(16), height=count)\n",
    "plt.xlabel('Topic', size=15)\n",
    "plt.ylabel('Count', size=15)\n",
    "plt.title('Count per Topic', size=18)\n",
    "plt.tight_layout()\n",
    "plt.show()\n",
    "fig.savefig('count_rebalanced.png', pad_inches = 100, dpi=300)"
   ]
  },
  {
   "cell_type": "code",
   "execution_count": 1269,
   "metadata": {},
   "outputs": [
    {
     "name": "stdout",
     "output_type": "stream",
     "text": [
      "Best alpha: 0.01\n",
      "Best score: 0.8069427184760931\n"
     ]
    }
   ],
   "source": [
    "best_alpha = -1\n",
    "best_score = -1\n",
    "for i in np.arange(0.01, 1, 0.01):\n",
    "    \n",
    "    # fit model\n",
    "    nb = MultinomialNB(alpha=i)\n",
    "    nb.fit(X_train_dtm_resample, y_train_resample)\n",
    "\n",
    "    # predict\n",
    "    pred = nb.predict(X_val_dtm_reduced)\n",
    "\n",
    "    # macro score\n",
    "    macro_f1_score = f1_score(y_val, pred, average='macro')\n",
    "    \n",
    "    if macro_f1_score > best_score:\n",
    "        best_score = macro_f1_score\n",
    "        best_alpha = i\n",
    "\n",
    "print(\"Best alpha:\", best_alpha)\n",
    "print(\"Best score:\", best_score)"
   ]
  },
  {
   "cell_type": "code",
   "execution_count": 1270,
   "metadata": {},
   "outputs": [
    {
     "name": "stdout",
     "output_type": "stream",
     "text": [
      "0.8069427184760931\n"
     ]
    }
   ],
   "source": [
    "# refit model with best alpha\n",
    "\n",
    "nb = MultinomialNB(alpha=best_alpha)\n",
    "nb.fit(X_train_dtm_resample, y_train_resample)\n",
    "\n",
    "# predict\n",
    "pred = nb.predict(X_val_dtm_reduced)\n",
    "\n",
    "# macro score\n",
    "macro_f1_score = f1_score(y_val, pred, average='macro')\n",
    "print(macro_f1_score)"
   ]
  },
  {
   "cell_type": "code",
   "execution_count": 1271,
   "metadata": {},
   "outputs": [
    {
     "name": "stdout",
     "output_type": "stream",
     "text": [
      "              precision    recall  f1-score   support\n",
      "\n",
      "           0       0.86      0.88      0.87      6107\n",
      "           1       0.94      0.93      0.94      7817\n",
      "           2       0.89      0.87      0.88     11817\n",
      "           3       0.78      0.86      0.82      5050\n",
      "           4       0.50      0.86      0.63      1527\n",
      "           5       0.82      0.90      0.86      8175\n",
      "           6       0.36      0.73      0.48       582\n",
      "           7       0.80      0.80      0.80     10630\n",
      "           8       0.89      0.89      0.89      9648\n",
      "           9       0.89      0.80      0.84     12298\n",
      "          10       0.52      0.69      0.59      4015\n",
      "          11       0.77      0.90      0.83      1792\n",
      "          12       0.83      0.82      0.82     16248\n",
      "          13       0.93      0.96      0.95     20866\n",
      "          14       0.99      0.95      0.97    120996\n",
      "          15       0.65      0.87      0.74      1296\n",
      "\n",
      "    accuracy                           0.91    238864\n",
      "   macro avg       0.78      0.86      0.81    238864\n",
      "weighted avg       0.92      0.91      0.91    238864\n",
      "\n"
     ]
    }
   ],
   "source": [
    "print(classification_report(y_val, pred))"
   ]
  },
  {
   "cell_type": "code",
   "execution_count": 1277,
   "metadata": {},
   "outputs": [
    {
     "name": "stderr",
     "output_type": "stream",
     "text": [
      "/Users/aoxiangsuen/opt/anaconda3/lib/python3.8/site-packages/sklearn/utils/deprecation.py:101: FutureWarning: Attribute coef_ was deprecated in version 0.24 and will be removed in 1.1 (renaming of 0.26).\n",
      "  warnings.warn(msg, category=FutureWarning)\n"
     ]
    },
    {
     "data": {
      "text/plain": [
       "[(-2.8087544819042396, 'money money'),\n",
       " (-3.11966027323235, 'money suppli'),\n",
       " (-3.4470782385516046, 'money spent'),\n",
       " (-4.149776612283759, 'googl account sync'),\n",
       " (-4.379601460036806, 'money left'),\n",
       " (-4.71905177467694, 'hour howev'),\n",
       " (-4.767733626306979, 'mini display'),\n",
       " (-4.852789374589915, 'money save'),\n",
       " (-4.9303198829058585, 'fuel requir'),\n",
       " (-5.033970596803628, 'garag band'),\n",
       " (-5.071827133763142, 'button ask'),\n",
       " (-5.1074604962123615, 'money got'),\n",
       " (-5.1149305376299, 'money possibl'),\n",
       " (-5.289675819259394, 'geometri calculu'),\n",
       " (-5.303426325407416, 'money pay'),\n",
       " (-5.381377313581774, 'articl written'),\n",
       " (-5.470680620042832, 'money play'),\n",
       " (-5.591415832960994, 'hold visa'),\n",
       " (-5.641949776365229, 'got basic'),\n",
       " (-5.642446708502918, 'linear transform finit')]"
      ]
     },
     "execution_count": 1277,
     "metadata": {},
     "output_type": "execute_result"
    }
   ],
   "source": [
    "# top important features\n",
    "sorted(zip(nb.coef_[0], feature_names), reverse=True)[:20]"
   ]
  },
  {
   "cell_type": "markdown",
   "metadata": {},
   "source": [
    "### Text CNN"
   ]
  },
  {
   "cell_type": "code",
   "execution_count": 1192,
   "metadata": {},
   "outputs": [],
   "source": [
    "# load cnn predicted probabilities from google colab\n",
    "\n",
    "val_pred_proba_cnn = np.load('val_pred_proba.npy')"
   ]
  },
  {
   "cell_type": "markdown",
   "metadata": {},
   "source": [
    "### Ensemble Multinomial NB and Text CNN"
   ]
  },
  {
   "cell_type": "code",
   "execution_count": 1274,
   "metadata": {},
   "outputs": [
    {
     "name": "stdout",
     "output_type": "stream",
     "text": [
      "Best nb model ratio: 0.5\n",
      "Best cnn model ratio: 0.5\n",
      "Best score: 0.841913888048778\n"
     ]
    }
   ],
   "source": [
    "best_nb_ratio = -1\n",
    "best_score = -1\n",
    "\n",
    "for i in np.arange(0, 1, 0.1):\n",
    "    val_pred_proba_nb = nb.predict_proba(X_val_dtm_reduced)\n",
    "    val_pred_proba_avg = (i * val_pred_proba_nb + (1-i) * val_pred_proba_cnn)\n",
    "    val_pred = np.argmax(val_pred_proba_avg, axis=1)\n",
    "\n",
    "    # macro score\n",
    "    macro_f1_score = f1_score(y_val, val_pred, average='macro')\n",
    "    if macro_f1_score > best_score:\n",
    "        best_score = macro_f1_score\n",
    "        best_nb_ratio = i\n",
    "\n",
    "print(\"Best nb model ratio:\", best_nb_ratio)\n",
    "print(\"Best cnn model ratio:\", 1-best_nb_ratio)\n",
    "print(\"Best score:\", best_score)"
   ]
  },
  {
   "cell_type": "code",
   "execution_count": 1276,
   "metadata": {},
   "outputs": [],
   "source": [
    "# Submission\n",
    "\n",
    "df_test_all_features = pd.read_csv('test_all_features.csv', index_col=['Id'])\n",
    "df_test_all_features.fillna(value='na', inplace=True)\n",
    "\n",
    "# Vectorize\n",
    "X_test_dtm = tfidf_vectorizer.transform(df_test_all_features.cleaned_text)\n",
    "\n",
    "# Aggregate manual features\n",
    "X_test_manual = topics_test_df\n",
    "X_test_manual_sparse = sp.sparse.csr_matrix(X_test_manual)\n",
    "X_test_dtm = sp.sparse.hstack([X_test_dtm, X_test_manual_sparse])\n",
    "X_test_dtm_reduced = selector.transform(X_test_dtm)\n",
    "\n",
    "# Prediction\n",
    "test_pred_proba_nb = nb.predict_proba(X_test_dtm_reduced)\n",
    "test_pred_proba_cnn = np.load('test_pred_proba.npy')\n",
    "test_pred_proba_avg = (best_nb_ratio * test_pred_proba_nb + (1-best_nb_ratio) * test_pred_proba_cnn)\n",
    "test_pred = np.argmax(test_pred_proba_avg, axis=1)\n",
    "\n",
    "df_test_all_features['Outcome'] = test_pred\n",
    "\n",
    "submission = df_test_all_features[['Outcome']]\n",
    "submission.to_csv('submission.csv')"
   ]
  }
 ],
 "metadata": {
  "kernelspec": {
   "display_name": "Python 3",
   "language": "python",
   "name": "python3"
  },
  "language_info": {
   "codemirror_mode": {
    "name": "ipython",
    "version": 3
   },
   "file_extension": ".py",
   "mimetype": "text/x-python",
   "name": "python",
   "nbconvert_exporter": "python",
   "pygments_lexer": "ipython3",
   "version": "3.8.3"
  }
 },
 "nbformat": 4,
 "nbformat_minor": 4
}